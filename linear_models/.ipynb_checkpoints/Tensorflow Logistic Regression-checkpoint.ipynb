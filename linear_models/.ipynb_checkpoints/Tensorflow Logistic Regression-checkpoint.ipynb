{
 "cells": [
  {
   "cell_type": "code",
   "execution_count": 5,
   "metadata": {
    "collapsed": false,
    "deletable": true,
    "editable": true
   },
   "outputs": [
    {
     "name": "stdout",
     "output_type": "stream",
     "text": [
      "Extracting MNIST_data/train-images-idx3-ubyte.gz\n",
      "Extracting MNIST_data/train-labels-idx1-ubyte.gz\n",
      "Extracting MNIST_data/t10k-images-idx3-ubyte.gz\n",
      "Extracting MNIST_data/t10k-labels-idx1-ubyte.gz\n",
      "Loss: 2.295212507247925\n",
      "Loss: 0.8335070610046387\n",
      "Loss: 0.6790400743484497\n",
      "Loss: 0.5936842560768127\n",
      "Loss: 0.6156973242759705\n",
      "test acc: 0.8885999917984009\n"
     ]
    }
   ],
   "source": [
    "import numpy as np\n",
    "import tensorflow as tf\n",
    "from sklearn.datasets import make_classification\n",
    "import numpy as np\n",
    "from tensorflow.examples.tutorials.mnist import input_data\n",
    "\n",
    "MNIST = input_data.read_data_sets('MNIST_data', one_hot=True)\n",
    "\n",
    "\n",
    "lr = .01\n",
    "batch_size = 128\n",
    "n_epochs = 2500\n",
    "\n",
    "X = tf.placeholder(tf.float32, [None, 784])\n",
    "Y = tf.placeholder(tf.float32, [None, 10])\n",
    "w = tf.Variable(tf.truncated_normal(shape = [784, 10], stddev=0.01), name = 'w')\n",
    "b = tf.Variable(tf.zeros([1, 10]), name = 'b')\n",
    "\n",
    "logits = tf.matmul(X, w) + b\n",
    "\n",
    "cross_entropy = tf.nn.softmax_cross_entropy_with_logits(labels = Y, logits = logits)\n",
    "reg = tf.nn.l2_loss(w)\n",
    "loss = tf.reduce_mean(cross_entropy) + 0.01 * reg\n",
    "opt = tf.train.GradientDescentOptimizer(learning_rate = lr).minimize(loss)\n",
    "\n",
    "cp = tf.equal(tf.argmax(logits, axis = 1), tf.argmax(Y, axis = 1))\n",
    "acc= tf.reduce_mean(tf.cast(cp, tf.float32))\n",
    "\n",
    "init = tf.global_variables_initializer()\n",
    "with tf.Session() as sess:\n",
    "    sess.run(init)\n",
    "    for i in range(n_epochs):\n",
    "        batch = MNIST.train.next_batch(batch_size)\n",
    "        sess.run(opt, feed_dict = {X: batch[0], Y: batch[1]})\n",
    "        if i % 500 == 0:\n",
    "            l = loss.eval(feed_dict = {X: batch[0], Y: batch[1]})\n",
    "            print(\"Loss: {}\".format(l))\n",
    "    a = acc.eval(feed_dict = {X: MNIST.test.images, Y: MNIST.test.labels})\n",
    "    print(\"test acc: {}\".format(a))\n"
   ]
  },
  {
   "cell_type": "code",
   "execution_count": 103,
   "metadata": {
    "collapsed": false,
    "deletable": true,
    "editable": true
   },
   "outputs": [
    {
     "name": "stdout",
     "output_type": "stream",
     "text": [
      "PRINTING ACCURACY\n",
      "(15000, 10)\n",
      "(15000, 1)\n",
      "0.9706\n"
     ]
    }
   ],
   "source": [
    "import sklearn\n",
    "from sklearn.model_selection import train_test_split\n",
    "from sklearn.metrics import accuracy_score\n",
    "X_t, y_t = make_classification(50000, 10, n_redundant = 1)\n",
    "y_t = y_t.reshape((50000, 1))\n",
    "X_train, X_test, y_train, y_test = train_test_split(X_t, y_t, test_size = 0.3)\n",
    "\n",
    "\n",
    "X = tf.placeholder(tf.float32, [None, 10])\n",
    "Y = tf.placeholder(tf.float32, [None, 1])\n",
    "w = tf.Variable(tf.zeros([10, 1], name = 'w'))\n",
    "b = tf.Variable(tf.zeros(1, 1), name = 'b')\n",
    "lr = 0.01\n",
    "\n",
    "logit = tf.matmul(X, w) + b\n",
    "loss = tf.nn.sigmoid_cross_entropy_with_logits(logits = logit, labels = Y) #+ tf.norm(w, ord = 2)\n",
    "\n",
    "cp = tf.equal(tf.argmax(logit, axis = 1), tf.argmax(Y, axis = 1))\n",
    "acc= tf.reduce_mean(tf.cast(cp, tf.float32))\n",
    "\n",
    "optimizer = tf.train.GradientDescentOptimizer(lr).minimize(loss)\n",
    "\n",
    "init = tf.global_variables_initializer()\n",
    "with tf.Session() as sess:\n",
    "    sess.run(init)\n",
    "    for i in range(1000):\n",
    "        sess.run(optimizer, feed_dict = {X: X_train, Y: y_train})\n",
    "    print(\"PRINTING ACCURACY\")\n",
    "    print(X_test.shape)\n",
    "    print(y_test.shape)\n",
    "    b = logit.eval(feed_dict = {X: X_test, Y: y_test})\n",
    "    preds = []\n",
    "    for i in range(b.shape[0]):\n",
    "        preds.append(b[i][0])\n",
    "    preds = [0 if p <= 0 else 1 for p in preds]\n",
    "    preds = np.array(preds)\n",
    "    y_test = y_test.reshape(y_test.shape[0])\n",
    "    print(accuracy_score(y_true = y_test, y_pred = preds))\n",
    "        \n",
    "    \n",
    "    \n"
   ]
  },
  {
   "cell_type": "code",
   "execution_count": null,
   "metadata": {
    "collapsed": true
   },
   "outputs": [],
   "source": [
    "X = tf.placeholder(tf.float32, [None, 784])\n",
    "Y = tf.placeholder(tf.float32, [None, 10])\n",
    "w = tf.Variable(tf.truncated_normal(shape = [784, 10], stddev=0.01), name = 'w')\n",
    "b = tf.Variable(tf.zeros([1, 10]), name = 'b')"
   ]
  },
  {
   "cell_type": "code",
   "execution_count": null,
   "metadata": {
    "collapsed": true
   },
   "outputs": [],
   "source": []
  }
 ],
 "metadata": {
  "kernelspec": {
   "display_name": "Python 3",
   "language": "python",
   "name": "python3"
  },
  "language_info": {
   "codemirror_mode": {
    "name": "ipython",
    "version": 3
   },
   "file_extension": ".py",
   "mimetype": "text/x-python",
   "name": "python",
   "nbconvert_exporter": "python",
   "pygments_lexer": "ipython3",
   "version": "3.5.0"
  }
 },
 "nbformat": 4,
 "nbformat_minor": 2
}
