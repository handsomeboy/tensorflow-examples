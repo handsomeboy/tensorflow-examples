{
 "cells": [
  {
   "cell_type": "code",
   "execution_count": 45,
   "metadata": {
    "collapsed": false,
    "deletable": true,
    "editable": true
   },
   "outputs": [
    {
     "name": "stdout",
     "output_type": "stream",
     "text": [
      "(506, 13)\n",
      "(506,)\n"
     ]
    }
   ],
   "source": [
    "import tensorflow as tf\n",
    "import numpy as np\n",
    "from sklearn.datasets import load_boston\n",
    "data, targets = load_boston(True)\n",
    "print(data.shape)\n",
    "print(targets.shape)"
   ]
  },
  {
   "cell_type": "code",
   "execution_count": 46,
   "metadata": {
    "collapsed": false,
    "deletable": true,
    "editable": true
   },
   "outputs": [],
   "source": [
    "X = tf.placeholder(tf.float32, shape = [506, 13])\n",
    "y = tf.placeholder(tf.float32, shape = [506,1])\n",
    "\n",
    "W = tf.Variable(tf.constant(0.1, shape = [13,1 ]))\n",
    "b = tf.Variable(tf.constant(0.1))"
   ]
  },
  {
   "cell_type": "code",
   "execution_count": 47,
   "metadata": {
    "collapsed": false,
    "deletable": true,
    "editable": true
   },
   "outputs": [],
   "source": [
    "y_pred = tf.matmul(X, W) + b\n",
    "loss = tf.reduce_sum(tf.square(y_pred - y))\n",
    "opt = tf.train.GradientDescentOptimizer(0.001).minimize(loss)\n"
   ]
  },
  {
   "cell_type": "code",
   "execution_count": 55,
   "metadata": {
    "collapsed": false,
    "deletable": true,
    "editable": true
   },
   "outputs": [
    {
     "name": "stdout",
     "output_type": "stream",
     "text": [
      "initial loss: 297795.0625\n",
      "32225.7\n",
      "18031.5\n",
      "15208.2\n",
      "14374.2\n",
      "14027.0\n",
      "13822.9\n",
      "13677.2\n",
      "13564.9\n",
      "13476.2\n",
      "13405.4\n",
      "13348.5\n",
      "13302.7\n",
      "13265.6\n",
      "13235.5\n",
      "13210.9\n",
      "13190.7\n",
      "13174.0\n",
      "13160.1\n",
      "13148.4\n",
      "13138.6\n",
      "13130.2\n",
      "13122.9\n",
      "13116.7\n",
      "13111.2\n",
      "13106.3\n",
      "13102.0\n",
      "13098.1\n",
      "13094.5\n",
      "13091.3\n",
      "13088.4\n",
      "13085.6\n",
      "13083.1\n",
      "13080.7\n",
      "13078.5\n",
      "13076.4\n",
      "13074.4\n",
      "13072.5\n",
      "13070.8\n",
      "13069.1\n",
      "13067.5\n",
      "13066.0\n",
      "13064.5\n",
      "13063.2\n",
      "13061.9\n",
      "13060.6\n",
      "13059.4\n",
      "13058.2\n",
      "13057.1\n",
      "13056.1\n",
      "13055.1\n",
      "13054.1\n",
      "13053.2\n",
      "13052.3\n",
      "13051.5\n",
      "13050.7\n",
      "13049.9\n",
      "13049.2\n",
      "13048.5\n",
      "13047.8\n",
      "13047.1\n",
      "13046.5\n",
      "13045.9\n",
      "13045.4\n",
      "13044.8\n",
      "13044.3\n",
      "13043.8\n",
      "13043.3\n",
      "13042.8\n",
      "13042.4\n",
      "13042.0\n",
      "13041.6\n",
      "13041.2\n",
      "13040.8\n",
      "13040.5\n",
      "13040.1\n",
      "13039.8\n",
      "13039.5\n",
      "13039.2\n",
      "13038.9\n",
      "13038.6\n",
      "13038.4\n",
      "13038.1\n",
      "13037.9\n",
      "13037.6\n",
      "13037.4\n",
      "13037.2\n",
      "13037.0\n",
      "13036.8\n",
      "13036.6\n",
      "13036.5\n",
      "13036.3\n",
      "13036.1\n",
      "13036.0\n",
      "13035.8\n",
      "13035.7\n",
      "13035.5\n",
      "13035.4\n",
      "13035.3\n",
      "13035.2\n",
      "13035.0\n",
      "final loss: 13034.9384765625\n"
     ]
    }
   ],
   "source": [
    "init = tf.global_variables_initializer()\n",
    "\n",
    "from sklearn.preprocessing import normalize\n",
    "#data = (data - np.mean(data, axis = 0)) / (np.std(data, axis = 0))\n",
    "data = normalize(data)\n",
    "targets = targets.reshape((targets.shape[0],1))\n",
    "with tf.Session() as sess:\n",
    "    sess.run(init)\n",
    "    init_loss = loss.eval(feed_dict = {X: data, y: targets})\n",
    "    print(\"initial loss: {}\".format(init_loss))\n",
    "    \n",
    "    for i in range(1000):\n",
    "        sess.run(opt, feed_dict = {X: data, y: targets})\n",
    "        if i % 10 == 0:\n",
    "            print(loss.eval(feed_dict = {X: data, y: targets}))\n",
    "            \n",
    "    final_loss = loss.eval(feed_dict = {X: data, y: targets})\n",
    "    print(\"final loss: {}\".format(final_loss))\n"
   ]
  },
  {
   "cell_type": "code",
   "execution_count": null,
   "metadata": {
    "collapsed": false,
    "deletable": true,
    "editable": true
   },
   "outputs": [],
   "source": []
  },
  {
   "cell_type": "code",
   "execution_count": null,
   "metadata": {
    "collapsed": false,
    "deletable": true,
    "editable": true
   },
   "outputs": [],
   "source": []
  },
  {
   "cell_type": "raw",
   "metadata": {
    "deletable": true,
    "editable": true
   },
   "source": []
  },
  {
   "cell_type": "code",
   "execution_count": null,
   "metadata": {
    "collapsed": false,
    "deletable": true,
    "editable": true
   },
   "outputs": [],
   "source": []
  },
  {
   "cell_type": "code",
   "execution_count": null,
   "metadata": {
    "collapsed": true,
    "deletable": true,
    "editable": true
   },
   "outputs": [],
   "source": []
  }
 ],
 "metadata": {
  "kernelspec": {
   "display_name": "Python 3",
   "language": "python",
   "name": "python3"
  },
  "language_info": {
   "codemirror_mode": {
    "name": "ipython",
    "version": 3
   },
   "file_extension": ".py",
   "mimetype": "text/x-python",
   "name": "python",
   "nbconvert_exporter": "python",
   "pygments_lexer": "ipython3",
   "version": "3.5.0"
  }
 },
 "nbformat": 4,
 "nbformat_minor": 2
}
