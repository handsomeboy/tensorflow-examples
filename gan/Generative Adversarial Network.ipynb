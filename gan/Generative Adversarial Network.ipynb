{
 "cells": [
  {
   "cell_type": "code",
   "execution_count": 2,
   "metadata": {
    "collapsed": true,
    "deletable": true,
    "editable": true
   },
   "outputs": [],
   "source": [
    "# canonical import statements\n",
    "import tensorflow as tf\n",
    "from tensorflow.examples.tutorials.mnist import input_data\n",
    "import numpy as np\n",
    "import matplotlib.pyplot as plt\n",
    "import matplotlib.gridspec as gridspec\n",
    "import os"
   ]
  },
  {
   "cell_type": "code",
   "execution_count": 3,
   "metadata": {
    "collapsed": true,
    "deletable": true,
    "editable": true
   },
   "outputs": [],
   "source": [
    "# images (for the discriminator)\n",
    "X = tf.placeholder(tf.float32, shape=[None, 784])\n",
    "# noise vector (for the generator)\n",
    "Z = tf.placeholder(tf.float32, shape=[None, 100])\n"
   ]
  },
  {
   "cell_type": "code",
   "execution_count": 4,
   "metadata": {
    "collapsed": false,
    "deletable": true,
    "editable": true
   },
   "outputs": [],
   "source": [
    "def xavier(shape):\n",
    "    # idk if this will actually help but i read it in a paper\n",
    "    return tf.truncated_normal(shape = shape, stddev = 1.0/tf.sqrt(shape[0]/2.0)) #\"xavier\" initialization of weights\n",
    "\n",
    "class discriminator_network:\n",
    "    \"\"\"MNIST IMAGE(s): x * 784 -> 128 hidden units -> 1 output neuron (probability of being real)\"\"\"\n",
    "    def __init__(self):\n",
    "        self.d_w1 = tf.Variable(xavier([784,128]))\n",
    "        self.d_b1 = tf.Variable(tf.zeros(shape=[128]))\n",
    "        self.d_w2 = tf.Variable(xavier([128,1]))\n",
    "        self.d_b2 = tf.Variable(tf.zeros(shape=[1]))\n",
    "    \n",
    "    def discriminator(self, x):\n",
    "        d_hfc_1 = tf.nn.relu(tf.matmul(x, self.d_w1) + self.d_b1)\n",
    "        d_logit = tf.matmul(d_hfc_1, self.d_w2) + self.d_b2\n",
    "        d_prob = tf.nn.sigmoid(d_logit)\n",
    "        return d_prob, d_logit\n",
    "    \n",
    "    def get_trainable_vars(self):\n",
    "        return self.d_w1, self.d_b1, self.d_w2, self.d_b2\n",
    "\n",
    "class generator_network:\n",
    "    \"\"\"Random noise vector (100 dim assumed) -> expand to 128 units -> output 784 units (MNIST dim)\"\"\"\n",
    "    def __init__(self):\n",
    "        self.g_w1 = tf.Variable(xavier([100, 128])) # 100d noise vector assumed. Output 128 hidden units in first layer\n",
    "        self.g_b1 = tf.Variable(tf.zeros(shape=[128]))\n",
    "        self.g_w2 = tf.Variable(xavier([128, 784])) # 784 outputs\n",
    "        self.g_b2 = tf.Variable(tf.zeros(shape=[784]))\n",
    "    \n",
    "    def generator(self, z):\n",
    "        g_hfc_1 = tf.nn.relu(tf.matmul(z, self.g_w1) + self.g_b1)\n",
    "        return tf.nn.sigmoid(tf.matmul(g_hfc_1, self.g_w2) + self.g_b2)\n",
    "    \n",
    "    def get_trainable_vars(self):\n",
    "        return self.g_w1, self.g_b1, self.g_w2, self.g_b2"
   ]
  },
  {
   "cell_type": "code",
   "execution_count": 5,
   "metadata": {
    "collapsed": true,
    "deletable": true,
    "editable": true
   },
   "outputs": [],
   "source": [
    "# next, we need a function to actually generate a 100d noise vector to feed into our generator\n",
    "def rand_noise_vector(num_vectors, size):\n",
    "    return np.random.uniform(-1.0, 1.0, size = [num_vectors, size]) # we might want a bunch of these to generate many imgs\n"
   ]
  },
  {
   "cell_type": "code",
   "execution_count": 6,
   "metadata": {
    "collapsed": false,
    "deletable": true,
    "editable": true
   },
   "outputs": [],
   "source": [
    "# a function to plot the genned images\n",
    "def plot(samples):\n",
    "    fig = plt.figure(figsize=(4, 4))\n",
    "    gs = gridspec.GridSpec(4, 4)\n",
    "    gs.update(wspace=0.05, hspace=0.05)\n",
    "\n",
    "    for i, sample in enumerate(samples):\n",
    "        ax = plt.subplot(gs[i])\n",
    "        plt.axis('off')\n",
    "        ax.set_xticklabels([])\n",
    "        ax.set_yticklabels([])\n",
    "        ax.set_aspect('equal')\n",
    "        plt.imshow(sample.reshape(28, 28), cmap='Greys_r')\n",
    "        plt.show()\n",
    "        # TODO - write out to file\n",
    "\n",
    "    return fig"
   ]
  },
  {
   "cell_type": "code",
   "execution_count": 10,
   "metadata": {
    "collapsed": false,
    "deletable": true,
    "editable": true
   },
   "outputs": [],
   "source": [
    "# create networks\n",
    "gen_net, discriminator_net = generator_network(), discriminator_network()\n",
    "# forward the noise vector through the generator to get a generator image\n",
    "g_sample = gen_net.generator(z=Z)\n",
    "# output function for real images, output function for generated image\n",
    "d_prob_real, d_logit_real = discriminator_net.discriminator(X)\n",
    "d_prob_fake, d_logit_fake = discriminator_net.discriminator(g_sample)\n",
    "\n",
    "# compute the loss with respect to the real logits\n",
    "d_real_loss = tf.reduce_mean(tf.nn.sigmoid_cross_entropy_with_logits(logits=d_logit_real, labels = tf.ones_like(d_logit_real)))\n",
    "# compute the loss, separately, with respect to the fake logits\n",
    "d_fake_loss = tf.reduce_mean(tf.nn.sigmoid_cross_entropy_with_logits(logits = d_logit_fake, labels = tf.zeros_like(d_logit_fake)))\n",
    "# total loss is just the sum\n",
    "d_loss = d_real_loss + d_fake_loss\n",
    "\n",
    "# train the generator w/fake logits\n",
    "g_loss = tf.reduce_mean(tf.nn.sigmoid_cross_entropy_with_logits(logits = d_logit_fake, labels = tf.ones_like(d_logit_fake)))\n",
    "\n",
    "# make sure to only train w/relevant vars\n",
    "d_step = tf.train.AdamOptimizer().minimize(d_loss, var_list = discriminator_net.get_trainable_vars())\n",
    "g_step = tf.train.AdamOptimizer().minimize(g_loss, var_list = gen_net.get_trainable_vars())"
   ]
  },
  {
   "cell_type": "code",
   "execution_count": 11,
   "metadata": {
    "collapsed": false,
    "deletable": true,
    "editable": true
   },
   "outputs": [
    {
     "name": "stdout",
     "output_type": "stream",
     "text": [
      "Extracting ../../MNIST_data/train-images-idx3-ubyte.gz\n",
      "Extracting ../../MNIST_data/train-labels-idx1-ubyte.gz\n",
      "Extracting ../../MNIST_data/t10k-images-idx3-ubyte.gz\n",
      "Extracting ../../MNIST_data/t10k-labels-idx1-ubyte.gz\n"
     ]
    }
   ],
   "source": [
    "mnist = input_data.read_data_sets('../../MNIST_data', one_hot=True)"
   ]
  },
  {
   "cell_type": "code",
   "execution_count": 15,
   "metadata": {
    "collapsed": false,
    "deletable": true,
    "editable": true
   },
   "outputs": [
    {
     "name": "stdout",
     "output_type": "stream",
     "text": [
      "Epoch: 0\n",
      "Discriminator loss: 1.441483736038208\n",
      "Generator loss: 1.6949948072433472\n",
      "Epoch: 1000\n",
      "Discriminator loss: 0.08102024346590042\n",
      "Generator loss: 4.536694526672363\n",
      "Epoch: 2000\n",
      "Discriminator loss: 0.43475741147994995\n",
      "Generator loss: 3.587798595428467\n",
      "Epoch: 3000\n",
      "Discriminator loss: 0.8962908983230591\n",
      "Generator loss: 2.1255552768707275\n",
      "Epoch: 4000\n",
      "Discriminator loss: 1.2880535125732422\n",
      "Generator loss: 1.8795353174209595\n",
      "Epoch: 5000\n",
      "Discriminator loss: 1.2178404331207275\n",
      "Generator loss: 1.3007352352142334\n",
      "Epoch: 6000\n",
      "Discriminator loss: 1.3386965990066528\n",
      "Generator loss: 0.8442540168762207\n",
      "Epoch: 7000\n",
      "Discriminator loss: 1.3649057149887085\n",
      "Generator loss: 1.1061701774597168\n",
      "Epoch: 8000\n",
      "Discriminator loss: 1.2713162899017334\n",
      "Generator loss: 0.9247305393218994\n",
      "Epoch: 9000\n",
      "Discriminator loss: 1.2523308992385864\n",
      "Generator loss: 1.0040396451950073\n",
      "Epoch: 10000\n",
      "Discriminator loss: 1.1401896476745605\n",
      "Generator loss: 1.0451468229293823\n",
      "Epoch: 11000\n",
      "Discriminator loss: 1.2850284576416016\n",
      "Generator loss: 0.984119176864624\n",
      "Epoch: 12000\n",
      "Discriminator loss: 1.2632390260696411\n",
      "Generator loss: 0.9930779933929443\n",
      "Epoch: 13000\n",
      "Discriminator loss: 1.318845272064209\n",
      "Generator loss: 0.9434811472892761\n",
      "Epoch: 14000\n",
      "Discriminator loss: 1.2002980709075928\n",
      "Generator loss: 0.8790757656097412\n",
      "Epoch: 15000\n",
      "Discriminator loss: 1.3367130756378174\n",
      "Generator loss: 1.0183595418930054\n",
      "Epoch: 16000\n",
      "Discriminator loss: 1.2931900024414062\n",
      "Generator loss: 0.9509730339050293\n",
      "Epoch: 17000\n",
      "Discriminator loss: 1.2137391567230225\n",
      "Generator loss: 0.900359034538269\n",
      "Epoch: 18000\n",
      "Discriminator loss: 1.2007842063903809\n",
      "Generator loss: 0.8911722302436829\n",
      "Epoch: 19000\n",
      "Discriminator loss: 1.1157715320587158\n",
      "Generator loss: 0.9225062131881714\n",
      "Epoch: 20000\n",
      "Discriminator loss: 1.1365723609924316\n",
      "Generator loss: 0.9912810325622559\n",
      "Epoch: 21000\n",
      "Discriminator loss: 1.0733544826507568\n",
      "Generator loss: 1.0787181854248047\n",
      "Epoch: 22000\n",
      "Discriminator loss: 1.0242114067077637\n",
      "Generator loss: 1.146294355392456\n",
      "Epoch: 23000\n",
      "Discriminator loss: 1.0562825202941895\n",
      "Generator loss: 1.2261240482330322\n",
      "Epoch: 24000\n",
      "Discriminator loss: 1.0602874755859375\n",
      "Generator loss: 1.1740355491638184\n",
      "Epoch: 25000\n",
      "Discriminator loss: 0.9733155965805054\n",
      "Generator loss: 1.268601417541504\n",
      "Epoch: 26000\n",
      "Discriminator loss: 1.0090844631195068\n",
      "Generator loss: 1.1428598165512085\n",
      "Epoch: 27000\n",
      "Discriminator loss: 0.9832760691642761\n",
      "Generator loss: 1.2790768146514893\n",
      "Epoch: 28000\n",
      "Discriminator loss: 1.0087406635284424\n",
      "Generator loss: 1.502560019493103\n",
      "Epoch: 29000\n",
      "Discriminator loss: 1.1763393878936768\n",
      "Generator loss: 1.57418954372406\n",
      "Epoch: 30000\n",
      "Discriminator loss: 0.9120063781738281\n",
      "Generator loss: 1.3943849802017212\n",
      "Epoch: 31000\n",
      "Discriminator loss: 0.9045614004135132\n",
      "Generator loss: 1.3380122184753418\n",
      "Epoch: 32000\n",
      "Discriminator loss: 0.9157710075378418\n",
      "Generator loss: 1.484148621559143\n",
      "Epoch: 33000\n",
      "Discriminator loss: 0.9244561791419983\n",
      "Generator loss: 1.5938811302185059\n",
      "Epoch: 34000\n",
      "Discriminator loss: 0.8435596227645874\n",
      "Generator loss: 1.5060158967971802\n",
      "Epoch: 35000\n",
      "Discriminator loss: 0.9893521070480347\n",
      "Generator loss: 1.4858582019805908\n",
      "Epoch: 36000\n",
      "Discriminator loss: 0.8891198635101318\n",
      "Generator loss: 1.730191946029663\n",
      "Epoch: 37000\n",
      "Discriminator loss: 0.8500584363937378\n",
      "Generator loss: 1.7746018171310425\n",
      "Epoch: 38000\n",
      "Discriminator loss: 0.9244111776351929\n",
      "Generator loss: 1.7248528003692627\n",
      "Epoch: 39000\n",
      "Discriminator loss: 0.8767060041427612\n",
      "Generator loss: 1.7545658349990845\n",
      "Epoch: 40000\n",
      "Discriminator loss: 0.8699029684066772\n",
      "Generator loss: 1.6470544338226318\n",
      "Epoch: 41000\n",
      "Discriminator loss: 0.8116742372512817\n",
      "Generator loss: 1.6743501424789429\n",
      "Epoch: 42000\n",
      "Discriminator loss: 0.7964111566543579\n",
      "Generator loss: 1.6593323945999146\n",
      "Epoch: 43000\n",
      "Discriminator loss: 0.9218512177467346\n",
      "Generator loss: 1.7145874500274658\n",
      "Epoch: 44000\n",
      "Discriminator loss: 0.7272852659225464\n",
      "Generator loss: 1.8046278953552246\n",
      "Epoch: 45000\n",
      "Discriminator loss: 0.7019548416137695\n",
      "Generator loss: 1.6771068572998047\n",
      "Epoch: 46000\n",
      "Discriminator loss: 0.8271945714950562\n",
      "Generator loss: 1.7036042213439941\n",
      "Epoch: 47000\n",
      "Discriminator loss: 0.9359744787216187\n",
      "Generator loss: 1.760794997215271\n",
      "Epoch: 48000\n",
      "Discriminator loss: 0.8957840800285339\n",
      "Generator loss: 1.8420884609222412\n",
      "Epoch: 49000\n",
      "Discriminator loss: 0.8273776769638062\n",
      "Generator loss: 1.7755916118621826\n",
      "Epoch: 50000\n",
      "Discriminator loss: 0.6907409429550171\n",
      "Generator loss: 1.9158892631530762\n",
      "Epoch: 51000\n",
      "Discriminator loss: 0.6901981830596924\n",
      "Generator loss: 1.9989604949951172\n",
      "Epoch: 52000\n",
      "Discriminator loss: 0.7703747749328613\n",
      "Generator loss: 1.9030585289001465\n",
      "Epoch: 53000\n",
      "Discriminator loss: 0.694411039352417\n",
      "Generator loss: 1.8639166355133057\n",
      "Epoch: 54000\n",
      "Discriminator loss: 0.7640635967254639\n",
      "Generator loss: 1.818454384803772\n",
      "Epoch: 55000\n",
      "Discriminator loss: 0.7770545482635498\n",
      "Generator loss: 1.708959937095642\n",
      "Epoch: 56000\n",
      "Discriminator loss: 0.8392088413238525\n",
      "Generator loss: 1.7488752603530884\n",
      "Epoch: 57000\n",
      "Discriminator loss: 0.7661252021789551\n",
      "Generator loss: 2.0847110748291016\n",
      "Epoch: 58000\n",
      "Discriminator loss: 0.7907232046127319\n",
      "Generator loss: 1.7996656894683838\n",
      "Epoch: 59000\n",
      "Discriminator loss: 0.6473453044891357\n",
      "Generator loss: 2.0305867195129395\n",
      "Epoch: 60000\n",
      "Discriminator loss: 0.5707913041114807\n",
      "Generator loss: 1.9572255611419678\n",
      "Epoch: 61000\n",
      "Discriminator loss: 0.7137037515640259\n",
      "Generator loss: 1.8072582483291626\n",
      "Epoch: 62000\n",
      "Discriminator loss: 0.7066389322280884\n",
      "Generator loss: 1.850335955619812\n",
      "Epoch: 63000\n",
      "Discriminator loss: 0.7461893558502197\n",
      "Generator loss: 2.122650623321533\n",
      "Epoch: 64000\n",
      "Discriminator loss: 0.7093372344970703\n",
      "Generator loss: 1.943860411643982\n",
      "Epoch: 65000\n",
      "Discriminator loss: 0.71342533826828\n",
      "Generator loss: 2.071249485015869\n",
      "Epoch: 66000\n",
      "Discriminator loss: 0.6958038210868835\n",
      "Generator loss: 1.969201683998108\n",
      "Epoch: 67000\n",
      "Discriminator loss: 0.7290394306182861\n",
      "Generator loss: 1.9152882099151611\n",
      "Epoch: 68000\n",
      "Discriminator loss: 0.7895539402961731\n",
      "Generator loss: 2.077171802520752\n",
      "Epoch: 69000\n",
      "Discriminator loss: 0.6362199783325195\n",
      "Generator loss: 2.098865032196045\n",
      "Epoch: 70000\n",
      "Discriminator loss: 0.6749398112297058\n",
      "Generator loss: 1.9833565950393677\n",
      "Epoch: 71000\n",
      "Discriminator loss: 0.7972180843353271\n",
      "Generator loss: 2.165163993835449\n",
      "Epoch: 72000\n",
      "Discriminator loss: 0.6946020722389221\n",
      "Generator loss: 2.2555837631225586\n",
      "Epoch: 73000\n",
      "Discriminator loss: 0.6402370929718018\n",
      "Generator loss: 2.1014585494995117\n",
      "Epoch: 74000\n",
      "Discriminator loss: 0.6705089807510376\n",
      "Generator loss: 1.9247291088104248\n",
      "Epoch: 75000\n",
      "Discriminator loss: 0.6888874769210815\n",
      "Generator loss: 1.9221975803375244\n",
      "Epoch: 76000\n",
      "Discriminator loss: 0.6705468893051147\n",
      "Generator loss: 2.152431011199951\n",
      "Epoch: 77000\n",
      "Discriminator loss: 0.6282687187194824\n",
      "Generator loss: 1.843759536743164\n",
      "Epoch: 78000\n",
      "Discriminator loss: 0.8070040345191956\n",
      "Generator loss: 2.248892307281494\n",
      "Epoch: 79000\n",
      "Discriminator loss: 0.6085096597671509\n",
      "Generator loss: 2.051097869873047\n",
      "Epoch: 80000\n",
      "Discriminator loss: 0.6149728298187256\n",
      "Generator loss: 2.1130056381225586\n",
      "Epoch: 81000\n",
      "Discriminator loss: 0.6316431164741516\n",
      "Generator loss: 2.363417148590088\n",
      "Epoch: 82000\n",
      "Discriminator loss: 0.6295380592346191\n",
      "Generator loss: 2.3526816368103027\n",
      "Epoch: 83000\n",
      "Discriminator loss: 0.6954167485237122\n",
      "Generator loss: 2.373603343963623\n",
      "Epoch: 84000\n",
      "Discriminator loss: 0.80206698179245\n",
      "Generator loss: 2.2499003410339355\n",
      "Epoch: 85000\n",
      "Discriminator loss: 0.5955614447593689\n",
      "Generator loss: 2.3696937561035156\n",
      "Epoch: 86000\n",
      "Discriminator loss: 0.7319316864013672\n",
      "Generator loss: 2.177898406982422\n",
      "Epoch: 87000\n",
      "Discriminator loss: 0.5646134614944458\n",
      "Generator loss: 2.19929838180542\n",
      "Epoch: 88000\n",
      "Discriminator loss: 0.5441602468490601\n",
      "Generator loss: 2.105832576751709\n",
      "Epoch: 89000\n",
      "Discriminator loss: 0.657550573348999\n",
      "Generator loss: 2.319355010986328\n",
      "Epoch: 90000\n",
      "Discriminator loss: 0.6209050416946411\n",
      "Generator loss: 2.2249817848205566\n",
      "Epoch: 91000\n",
      "Discriminator loss: 0.5855149626731873\n",
      "Generator loss: 2.421175956726074\n",
      "Epoch: 92000\n",
      "Discriminator loss: 0.5146161317825317\n",
      "Generator loss: 2.2930421829223633\n",
      "Epoch: 93000\n",
      "Discriminator loss: 0.5559685230255127\n",
      "Generator loss: 2.338388442993164\n",
      "Epoch: 94000\n",
      "Discriminator loss: 0.6389357447624207\n",
      "Generator loss: 2.2069602012634277\n",
      "Epoch: 95000\n",
      "Discriminator loss: 0.6254034042358398\n",
      "Generator loss: 2.4055066108703613\n",
      "Epoch: 96000\n",
      "Discriminator loss: 0.4940199851989746\n",
      "Generator loss: 2.666383981704712\n",
      "Epoch: 97000\n",
      "Discriminator loss: 0.6112257242202759\n",
      "Generator loss: 2.4446754455566406\n",
      "Epoch: 98000\n",
      "Discriminator loss: 0.5495008826255798\n",
      "Generator loss: 2.4145667552948\n",
      "Epoch: 99000\n",
      "Discriminator loss: 0.5790282487869263\n",
      "Generator loss: 2.380843162536621\n"
     ]
    },
    {
     "data": {
      "image/png": "[encoded data removed]",
      "text/plain": [
       "<matplotlib.figure.Figure at 0x1048937f0>"
      ]
     },
     "metadata": {},
     "output_type": "display_data"
    },
    {
     "data": {
      "image/png": "[encoded data removed]",
      "text/plain": [
       "<matplotlib.figure.Figure at 0x112dba828>"
      ]
     },
     "metadata": {},
     "output_type": "display_data"
    },
    {
     "data": {
      "image/png": "[encoded data removed]",
      "text/plain": [
       "<matplotlib.figure.Figure at 0x112d73c18>"
      ]
     },
     "metadata": {},
     "output_type": "display_data"
    },
    {
     "data": {
      "image/png": "[encoded data removed]",
      "text/plain": [
       "<matplotlib.figure.Figure at 0x103f6d668>"
      ]
     },
     "metadata": {},
     "output_type": "display_data"
    },
    {
     "data": {
      "image/png": "[encoded data removed]",
      "text/plain": [
       "<matplotlib.figure.Figure at 0x112cdbc50>"
      ]
     },
     "metadata": {},
     "output_type": "display_data"
    },
    {
     "data": {
      "image/png": "[encoded data removed]",
      "text/plain": [
       "<matplotlib.figure.Figure at 0x1132c99b0>"
      ]
     },
     "metadata": {},
     "output_type": "display_data"
    },
    {
     "data": {
      "image/png": "[encoded data removed]",
      "text/plain": [
       "<matplotlib.figure.Figure at 0x112cd1cc0>"
      ]
     },
     "metadata": {},
     "output_type": "display_data"
    },
    {
     "data": {
      "image/png": "[encoded data removed]",
      "text/plain": [
       "<matplotlib.figure.Figure at 0x1112cf518>"
      ]
     },
     "metadata": {},
     "output_type": "display_data"
    },
    {
     "data": {
      "image/png": "[encoded data removed]",
      "text/plain": [
       "<matplotlib.figure.Figure at 0x11325ca20>"
      ]
     },
     "metadata": {},
     "output_type": "display_data"
    },
    {
     "data": {
      "image/png": "[encoded data removed]",
      "text/plain": [
       "<matplotlib.figure.Figure at 0x112ed3b70>"
      ]
     },
     "metadata": {},
     "output_type": "display_data"
    },
    {
     "data": {
      "image/png": "[encoded data removed]",
      "text/plain": [
       "<matplotlib.figure.Figure at 0x112f8ecc0>"
      ]
     },
     "metadata": {},
     "output_type": "display_data"
    },
    {
     "data": {
      "image/png": "[encoded data removed]",
      "text/plain": [
       "<matplotlib.figure.Figure at 0x112f9ca58>"
      ]
     },
     "metadata": {},
     "output_type": "display_data"
    },
    {
     "data": {
      "image/png": "[encoded data removed]",
      "text/plain": [
       "<matplotlib.figure.Figure at 0x113a78a20>"
      ]
     },
     "metadata": {},
     "output_type": "display_data"
    },
    {
     "data": {
      "image/png": "[encoded data removed]",
      "text/plain": [
       "<matplotlib.figure.Figure at 0x102748dd8>"
      ]
     },
     "metadata": {},
     "output_type": "display_data"
    },
    {
     "data": {
      "image/png": "[encoded data removed]",
      "text/plain": [
       "<matplotlib.figure.Figure at 0x11289c2b0>"
      ]
     },
     "metadata": {},
     "output_type": "display_data"
    },
    {
     "data": {
      "image/png": "[encoded data removed]",
      "text/plain": [
       "<matplotlib.figure.Figure at 0x112058898>"
      ]
     },
     "metadata": {},
     "output_type": "display_data"
    }
   ],
   "source": [
    "with tf.Session() as sess:\n",
    "    sess.run(tf.global_variables_initializer())\n",
    "    i = 0\n",
    "    for epoch in range(100000): # increase this for more accuracy, but it will be more likely to collapse\n",
    "        X_mb, _ = mnist.train.next_batch(128)\n",
    "        _, cur_loss_d = sess.run([d_step, d_loss], feed_dict = {X: X_mb, Z: rand_noise_vector(128, 100)})\n",
    "        _, cur_loss_g = sess.run([g_step, g_loss], feed_dict = {Z: rand_noise_vector(128, 100)})\n",
    "        _, cur_loss_g = sess.run([g_step, g_loss], feed_dict = {Z: rand_noise_vector(128, 100)})\n",
    "        if epoch % 1000 == 0:\n",
    "            print(\"Epoch: {}\".format(epoch))\n",
    "            print(\"Discriminator loss: {}\".format(cur_loss_d))\n",
    "            print(\"Generator loss: {}\".format(cur_loss_g))\n",
    "    %matplotlib inline\n",
    "    samples = sess.run(g_sample, feed_dict={Z: rand_noise_vector(16, 100)})\n",
    "    plot(samples) # 16 of em\n",
    "        \n",
    "\n"
   ]
  },
  {
   "cell_type": "markdown",
   "metadata": {
    "collapsed": true,
    "deletable": true,
    "editable": true
   },
   "source": [
    "### "
   ]
  }
 ],
 "metadata": {
  "kernelspec": {
   "display_name": "Python 3",
   "language": "python",
   "name": "python3"
  },
  "language_info": {
   "codemirror_mode": {
    "name": "ipython",
    "version": 3
   },
   "file_extension": ".py",
   "mimetype": "text/x-python",
   "name": "python",
   "nbconvert_exporter": "python",
   "pygments_lexer": "ipython3",
   "version": "3.5.0"
  }
 },
 "nbformat": 4,
 "nbformat_minor": 2
}
