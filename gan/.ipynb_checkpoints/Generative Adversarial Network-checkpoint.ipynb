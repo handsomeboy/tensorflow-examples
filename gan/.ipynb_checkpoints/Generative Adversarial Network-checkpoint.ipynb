{
 "cells": [
  {
   "cell_type": "code",
   "execution_count": 1,
   "metadata": {
    "collapsed": true
   },
   "outputs": [],
   "source": [
    "# canonical import statements\n",
    "import tensorflow as tf\n",
    "from tensorflow.examples.tutorials.mnist import input_data\n",
    "import numpy as np\n",
    "import matplotlib.pyplot as plt\n",
    "import matplotlib.gridspec as gridspec\n",
    "import os"
   ]
  },
  {
   "cell_type": "code",
   "execution_count": 2,
   "metadata": {
    "collapsed": true
   },
   "outputs": [],
   "source": [
    "# images (for the discriminator)\n",
    "X = tf.placeholder(tf.float32, shape=[None, 784])\n",
    "# noise vector (for the generator)\n",
    "Z = tf.placeholder(tf.float32, shape=[None, 100])\n"
   ]
  },
  {
   "cell_type": "code",
   "execution_count": 38,
   "metadata": {
    "collapsed": false
   },
   "outputs": [],
   "source": [
    "def xavier(shape):\n",
    "    # idk if this will actually help but i read it in a paper\n",
    "    return tf.truncated_normal(shape = shape, stddev = 1.0/tf.sqrt(shape[0]/2.0)) #\"xavier\" initialization of weights\n",
    "\n",
    "class discriminator_network:\n",
    "    \"\"\"MNIST IMAGE(s): x * 784 -> 128 hidden units -> 1 output neuron (probability of being real)\"\"\"\n",
    "    def __init__(self):\n",
    "        self.d_w1 = tf.Variable(xavier([784,128]))\n",
    "        self.d_b1 = tf.Variable(tf.zeros(shape=[128]))\n",
    "        self.d_w2 = tf.Variable(xavier([128,1]))\n",
    "        self.d_b2 = tf.Variable(tf.zeros(shape=[1]))\n",
    "    \n",
    "    def discriminator(self, x):\n",
    "        d_hfc_1 = tf.nn.relu(tf.matmul(x, self.d_w1) + self.d_b1)\n",
    "        d_logit = tf.matmul(d_hfc_1, self.d_w2) + self.d_b2\n",
    "        d_prob = tf.nn.sigmoid(d_logit)\n",
    "        return d_prob, d_logit\n",
    "    \n",
    "    def get_trainable_vars(self):\n",
    "        return self.d_w1, self.d_b1, self.d_w2, self.d_b2\n",
    "\n",
    "class generator_network:\n",
    "    \"\"\"Random noise vector (100 dim assumed) -> expand to 128 units -> output 784 units (MNIST dim)\"\"\"\n",
    "    def __init__(self):\n",
    "        self.g_w1 = tf.Variable(xavier([100, 128])) # 100d noise vector assumed. Output 128 hidden units in first layer\n",
    "        self.g_b1 = tf.Variable(tf.zeros(shape=[128]))\n",
    "        self.g_w2 = tf.Variable(xavier([128, 784])) # 784 outputs\n",
    "        self.g_b2 = tf.Variable(tf.zeros(shape=[784]))\n",
    "    \n",
    "    def generator(self, z):\n",
    "        g_hfc_1 = tf.nn.relu(tf.matmul(z, self.g_w1) + self.g_b1)\n",
    "        return tf.nn.sigmoid(tf.matmul(g_hfc_1, self.g_w2) + self.g_b2)\n",
    "    \n",
    "    def get_trainable_vars(self):\n",
    "        return self.g_w1, self.g_b1, self.g_w2, self.g_b2"
   ]
  },
  {
   "cell_type": "code",
   "execution_count": 47,
   "metadata": {
    "collapsed": true
   },
   "outputs": [],
   "source": [
    "# next, we need a function to actually generate a 100d noise vector to feed into our generator\n",
    "def rand_noise_vector(num_vectors, size):\n",
    "    return np.random.uniform(-1.0, 1.0, size = [num_vectors, size]) # we might want a bunch of these to generate many imgs\n"
   ]
  },
  {
   "cell_type": "code",
   "execution_count": 40,
   "metadata": {
    "collapsed": false
   },
   "outputs": [],
   "source": [
    "# a function to plot the genned images\n",
    "def plot(samples):\n",
    "    fig = plt.figure(figsize=(4, 4))\n",
    "    gs = gridspec.GridSpec(4, 4)\n",
    "    gs.update(wspace=0.05, hspace=0.05)\n",
    "\n",
    "    for i, sample in enumerate(samples):\n",
    "        ax = plt.subplot(gs[i])\n",
    "        plt.axis('off')\n",
    "        ax.set_xticklabels([])\n",
    "        ax.set_yticklabels([])\n",
    "        ax.set_aspect('equal')\n",
    "        plt.imshow(sample.reshape(28, 28), cmap='Greys_r')\n",
    "        plt.show()\n",
    "        # TODO - write out to file\n",
    "\n",
    "    return fig"
   ]
  },
  {
   "cell_type": "code",
   "execution_count": 42,
   "metadata": {
    "collapsed": false
   },
   "outputs": [],
   "source": [
    "# create networks\n",
    "gen_net, discriminator_net = generator_network(), discriminator_network()\n",
    "# forward the noise vector through the generator to get a generator image\n",
    "g_sample = gen_net.generator(z=Z)\n",
    "# output function for real images, output function for generated image\n",
    "d_prob_real, d_logit_real = discriminator_net.discriminator(X)\n",
    "d_prob_fake, d_logit_fake = discriminator_net.discriminator(g_sample)\n",
    "\n",
    "# compute the loss with respect to the real logits\n",
    "d_real_loss = tf.reduce_mean(tf.nn.sigmoid_cross_entropy_with_logits(logits=d_logit_real, labels = tf.ones_like(d_logit_real)))\n",
    "# compute the loss, separately, with respect to the fake logits\n",
    "d_fake_loss = tf.reduce_mean(tf.nn.sigmoid_cross_entropy_with_logits(logits = d_logit_fake, labels = tf.zeros_like(d_logit_fake)))\n",
    "# total loss is just the sum\n",
    "d_loss = d_real_loss + d_fake_loss\n",
    "\n",
    "# train the generator w/fake logits\n",
    "g_loss = tf.reduce_mean(tf.nn.sigmoid_cross_entropy_with_logits(logits = d_logit_fake, labels = tf.ones_like(d_logit_fake)))\n",
    "\n",
    "# make sure to only train w/relevant vars\n",
    "d_step = tf.train.AdamOptimizer().minimize(d_loss, var_list = discriminator_net.get_trainable_vars())\n",
    "g_step = tf.train.AdamOptimizer().minimize(g_loss, var_list = gen_net.get_trainable_vars())"
   ]
  },
  {
   "cell_type": "code",
   "execution_count": 43,
   "metadata": {
    "collapsed": false
   },
   "outputs": [
    {
     "name": "stdout",
     "output_type": "stream",
     "text": [
      "Successfully downloaded train-images-idx3-ubyte.gz 9912422 bytes.\n",
      "Extracting ../../MNIST_data/train-images-idx3-ubyte.gz\n",
      "Successfully downloaded train-labels-idx1-ubyte.gz 28881 bytes.\n",
      "Extracting ../../MNIST_data/train-labels-idx1-ubyte.gz\n",
      "Successfully downloaded t10k-images-idx3-ubyte.gz 1648877 bytes.\n",
      "Extracting ../../MNIST_data/t10k-images-idx3-ubyte.gz\n",
      "Successfully downloaded t10k-labels-idx1-ubyte.gz 4542 bytes.\n",
      "Extracting ../../MNIST_data/t10k-labels-idx1-ubyte.gz\n"
     ]
    }
   ],
   "source": [
    "mnist = input_data.read_data_sets('../../MNIST_data', one_hot=True)"
   ]
  },
  {
   "cell_type": "code",
   "execution_count": 54,
   "metadata": {
    "collapsed": false
   },
   "outputs": [
    {
     "name": "stdout",
     "output_type": "stream",
     "text": [
      "Epoch: 0\n",
      "Discriminator loss: 1.447465181350708\n",
      "Generator loss: 2.2235050201416016\n",
      "Epoch: 1000\n",
      "Discriminator loss: 0.03112620860338211\n",
      "Generator loss: 7.022542953491211\n",
      "Epoch: 2000\n",
      "Discriminator loss: 0.014818819239735603\n",
      "Generator loss: 5.591553211212158\n",
      "Epoch: 3000\n",
      "Discriminator loss: 0.05217864364385605\n",
      "Generator loss: 5.098319053649902\n",
      "Epoch: 4000\n",
      "Discriminator loss: 0.15426088869571686\n",
      "Generator loss: 6.123116493225098\n",
      "Epoch: 5000\n",
      "Discriminator loss: 0.39475274085998535\n",
      "Generator loss: 4.463258743286133\n",
      "Epoch: 6000\n",
      "Discriminator loss: 0.3387569189071655\n",
      "Generator loss: 4.389549255371094\n",
      "Epoch: 7000\n",
      "Discriminator loss: 0.4034067392349243\n",
      "Generator loss: 3.9052743911743164\n",
      "Epoch: 8000\n",
      "Discriminator loss: 0.5269654989242554\n",
      "Generator loss: 3.4607038497924805\n",
      "Epoch: 9000\n",
      "Discriminator loss: 0.38794243335723877\n",
      "Generator loss: 3.9712471961975098\n"
     ]
    },
    {
     "data": {
      "image/png": "[encoded data removed]",
      "text/plain": [
       "<matplotlib.figure.Figure at 0x112272b38>"
      ]
     },
     "metadata": {},
     "output_type": "display_data"
    }
   ],
   "source": [
    "with tf.Session() as sess:\n",
    "    sess.run(tf.global_variables_initializer())\n",
    "    i = 0\n",
    "    for epoch in range(10000): # increase this for more accuracy, but it will be more likely to collapse\n",
    "        X_mb, _ = mnist.train.next_batch(128)\n",
    "        _, cur_loss_d = sess.run([d_step, d_loss], feed_dict = {X: X_mb, Z: rand_noise_vector(128, 100)})\n",
    "        _, cur_loss_g = sess.run([g_step, g_loss], feed_dict = {Z: rand_noise_vector(128, 100)})\n",
    "        if epoch % 1000 == 0:\n",
    "            print(\"Epoch: {}\".format(epoch))\n",
    "            print(\"Discriminator loss: {}\".format(cur_loss_d))\n",
    "            print(\"Generator loss: {}\".format(cur_loss_g))\n",
    "    %matplotlib inline\n",
    "    samples = sess.run(g_sample, feed_dict={Z: rand_noise_vector(16, 100)})\n",
    "    plot(samples) # 16 of em\n",
    "        \n",
    "\n"
   ]
  },
  {
   "cell_type": "code",
   "execution_count": null,
   "metadata": {
    "collapsed": true
   },
   "outputs": [],
   "source": []
  }
 ],
 "metadata": {
  "kernelspec": {
   "display_name": "Python 3",
   "language": "python",
   "name": "python3"
  },
  "language_info": {
   "codemirror_mode": {
    "name": "ipython",
    "version": 3
   },
   "file_extension": ".py",
   "mimetype": "text/x-python",
   "name": "python",
   "nbconvert_exporter": "python",
   "pygments_lexer": "ipython3",
   "version": "3.5.0"
  }
 },
 "nbformat": 4,
 "nbformat_minor": 2
}
