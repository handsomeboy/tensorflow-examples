{
 "cells": [
  {
   "cell_type": "code",
   "execution_count": 22,
   "metadata": {
    "collapsed": false
   },
   "outputs": [
    {
     "name": "stdout",
     "output_type": "stream",
     "text": [
      "Extracting MNIST_data/train-images-idx3-ubyte.gz\n",
      "Extracting MNIST_data/train-labels-idx1-ubyte.gz\n",
      "Extracting MNIST_data/t10k-images-idx3-ubyte.gz\n",
      "Extracting MNIST_data/t10k-labels-idx1-ubyte.gz\n",
      "Loss: 2.290809392929077\n",
      "Loss: 0.7883104085922241\n",
      "Loss: 0.7243736982345581\n",
      "Loss: 0.7208738327026367\n",
      "Loss: 0.613282322883606\n",
      "test acc: 0.8883000016212463\n"
     ]
    }
   ],
   "source": [
    "import numpy as np\n",
    "import tensorflow as tf\n",
    "from tensorflow.examples.tutorials.mnist import input_data\n",
    "\n",
    "MNIST = input_data.read_data_sets('MNIST_data', one_hot=True)\n",
    "\n",
    "\n",
    "lr = .01\n",
    "batch_size = 128\n",
    "n_epochs = 2500\n",
    "\n",
    "X = tf.placeholder(tf.float32, [None, 784])\n",
    "Y = tf.placeholder(tf.float32, [None, 10])\n",
    "w = tf.Variable(tf.truncated_normal(shape = [784, 10], stddev=0.01), name = 'w')\n",
    "b = tf.Variable(tf.zeros([1, 10]), name = 'b')\n",
    "\n",
    "logits = tf.matmul(X, w) + b\n",
    "\n",
    "cross_entropy = tf.nn.softmax_cross_entropy_with_logits(labels = Y, logits = logits)\n",
    "reg = tf.nn.l2_loss(w)\n",
    "loss = tf.reduce_mean(cross_entropy) + 0.01 * reg\n",
    "opt = tf.train.GradientDescentOptimizer(learning_rate = lr).minimize(loss)\n",
    "\n",
    "cp = tf.equal(tf.argmax(logits, axis = 1), tf.argmax(Y, axis = 1))\n",
    "acc= tf.reduce_mean(tf.cast(cp, tf.float32))\n",
    "\n",
    "init = tf.global_variables_initializer()\n",
    "with tf.Session() as sess:\n",
    "    sess.run(init)\n",
    "    for i in range(n_epochs):\n",
    "        batch = MNIST.train.next_batch(batch_size)\n",
    "        sess.run(opt, feed_dict = {X: batch[0], Y: batch[1]})\n",
    "        if i % 500 == 0:\n",
    "            l = loss.eval(feed_dict = {X: batch[0], Y: batch[1]})\n",
    "            print(\"Loss: {}\".format(l))\n",
    "    a = acc.eval(feed_dict = {X: mnist.test.images, Y: mnist.test.labels})\n",
    "    print(\"test acc: {}\".format(a))\n"
   ]
  },
  {
   "cell_type": "code",
   "execution_count": null,
   "metadata": {
    "collapsed": true
   },
   "outputs": [],
   "source": []
  }
 ],
 "metadata": {
  "kernelspec": {
   "display_name": "Python 3",
   "language": "python",
   "name": "python3"
  },
  "language_info": {
   "codemirror_mode": {
    "name": "ipython",
    "version": 3
   },
   "file_extension": ".py",
   "mimetype": "text/x-python",
   "name": "python",
   "nbconvert_exporter": "python",
   "pygments_lexer": "ipython3",
   "version": "3.5.0"
  }
 },
 "nbformat": 4,
 "nbformat_minor": 2
}
